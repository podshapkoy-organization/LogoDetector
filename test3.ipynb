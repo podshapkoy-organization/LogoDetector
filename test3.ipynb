{
 "cells": [
  {
   "cell_type": "code",
   "id": "initial_id",
   "metadata": {
    "collapsed": true,
    "ExecuteTime": {
     "end_time": "2025-02-04T20:25:40.047396Z",
     "start_time": "2025-02-04T20:25:36.825340Z"
    }
   },
   "source": [
    "import os\n",
    "import random\n",
    "import pandas as pd\n",
    "from PIL import Image\n",
    "from torch.utils.data import Dataset\n",
    "import torch\n",
    "import torch.nn as nn\n",
    "import torch.optim as optim\n",
    "from torch.utils.data import DataLoader, random_split\n",
    "from torchvision import transforms\n",
    "import matplotlib.pyplot as plt\n",
    "from sklearn.metrics.pairwise import cosine_similarity\n",
    "import numpy as np"
   ],
   "outputs": [],
   "execution_count": 1
  },
  {
   "metadata": {
    "ExecuteTime": {
     "end_time": "2025-02-04T20:25:40.087982Z",
     "start_time": "2025-02-04T20:25:40.048912Z"
    }
   },
   "cell_type": "code",
   "source": [
    "device = torch.device(\"cuda\" if torch.cuda.is_available() else \"cpu\")\n",
    "image_size = (64, 64)\n",
    "batch_size = 16\n",
    "num_epochs = 6\n",
    "learning_rate = 0.001\n",
    "logos_csv = \"dataset/logos.csv\"\n",
    "reference_logos_dir = \"dataset/reference_logos\"\n",
    "df = pd.read_csv(logos_csv)"
   ],
   "id": "8bf8e79ba7d9cc35",
   "outputs": [],
   "execution_count": 2
  },
  {
   "metadata": {
    "ExecuteTime": {
     "end_time": "2025-02-04T20:25:41.615247Z",
     "start_time": "2025-02-04T20:25:41.610816Z"
    }
   },
   "cell_type": "code",
   "source": [
    "train_transform = transforms.Compose([\n",
    "    transforms.Resize(image_size),\n",
    "    transforms.RandomRotation(30),\n",
    "    transforms.RandomAffine(degrees=0, translate=(0.2, 0.2), scale=(0.8, 1.2), shear=10),\n",
    "    transforms.ColorJitter(brightness=0.3, contrast=0.3, saturation=0.2, hue=0.1),\n",
    "    transforms.RandomHorizontalFlip(p=0.5),\n",
    "    transforms.ToTensor(),\n",
    "    transforms.Normalize(mean=[0.485, 0.456, 0.406], std=[0.229, 0.224, 0.225]),\n",
    "])\n",
    "\n",
    "test_transform = transforms.Compose([\n",
    "    transforms.Resize(image_size),\n",
    "    transforms.ToTensor(),\n",
    "    transforms.Normalize(mean=[0.485, 0.456, 0.406], std=[0.229, 0.224, 0.225]),\n",
    "])"
   ],
   "id": "963f40261443c66e",
   "outputs": [],
   "execution_count": 3
  },
  {
   "metadata": {
    "ExecuteTime": {
     "end_time": "2025-02-04T20:25:42.468023Z",
     "start_time": "2025-02-04T20:25:42.465063Z"
    }
   },
   "cell_type": "code",
   "source": [
    "def hardest_negative(anchor, positives, negatives, model):\n",
    "    with torch.no_grad():\n",
    "        anchor_embed = model(anchor.unsqueeze(0))\n",
    "        # positive_embed = model(positives.unsqueeze(0))\n",
    "        negative_embeds = torch.stack([model(n.unsqueeze(0)) for n in negatives])\n",
    "\n",
    "        distances = torch.norm(anchor_embed - negative_embeds, dim=1)\n",
    "        hardest_negative_idx = torch.argmin(distances)\n",
    "        hardest_negative = negatives[hardest_negative_idx]\n",
    "\n",
    "    return hardest_negative\n"
   ],
   "id": "c51033d74574400f",
   "outputs": [],
   "execution_count": 4
  },
  {
   "metadata": {
    "ExecuteTime": {
     "end_time": "2025-02-04T20:25:43.169575Z",
     "start_time": "2025-02-04T20:25:43.164103Z"
    }
   },
   "cell_type": "code",
   "source": [
    "class TripletLogoDataset(Dataset):\n",
    "    def __init__(self, df, logos_dir, transform=None, model=None):\n",
    "        self.df = df\n",
    "        self.logos_dir = logos_dir\n",
    "        self.transform = transform\n",
    "        self.model = model\n",
    "        self.brand_to_images = {\n",
    "            brand: [f for f in os.listdir(os.path.join(logos_dir, brand)) if f.endswith((\".jpg\", \".png\"))]\n",
    "            for brand in os.listdir(logos_dir)\n",
    "            if os.path.isdir(os.path.join(logos_dir, brand))\n",
    "        }\n",
    "        self.brands = list(self.brand_to_images.keys())\n",
    "\n",
    "    def __len__(self):\n",
    "        return sum(len(images) for images in self.brand_to_images.values())\n",
    "\n",
    "    def __getitem__(self, idx):\n",
    "        brand = random.choice(self.brands)\n",
    "        images = self.brand_to_images[brand]\n",
    "\n",
    "        anchor_file, positive_file = random.sample(images, 2)\n",
    "        anchor_path = os.path.join(self.logos_dir, brand, anchor_file)\n",
    "        positive_path = os.path.join(self.logos_dir, brand, positive_file)\n",
    "\n",
    "        anchor = Image.open(anchor_path).convert(\"RGB\")\n",
    "        positive = Image.open(positive_path).convert(\"RGB\")\n",
    "\n",
    "        if self.transform:\n",
    "            anchor = self.transform(anchor)\n",
    "            positive = self.transform(positive)\n",
    "\n",
    "        negative_brand = random.choice([b for b in self.brands if b != brand])\n",
    "        negative_files = self.brand_to_images[negative_brand]\n",
    "        negative_images = [Image.open(os.path.join(self.logos_dir, negative_brand, f)).convert(\"RGB\") for f in\n",
    "                           negative_files]\n",
    "\n",
    "        if self.transform:\n",
    "            negative_images = [self.transform(img) for img in negative_images]\n",
    "\n",
    "        if self.model:\n",
    "            negative = hardest_negative(anchor, positive, negative_images, self.model)\n",
    "        else:\n",
    "            negative = random.choice(negative_images)\n",
    "\n",
    "        return anchor, positive, negative, brand\n"
   ],
   "id": "6a2fb64450fc7f70",
   "outputs": [],
   "execution_count": 5
  },
  {
   "metadata": {
    "ExecuteTime": {
     "end_time": "2025-02-04T20:25:43.840068Z",
     "start_time": "2025-02-04T20:25:43.717205Z"
    }
   },
   "cell_type": "code",
   "source": [
    "dataset = TripletLogoDataset(df, reference_logos_dir, transform=train_transform)\n",
    "train_size = int(0.8 * len(dataset))\n",
    "test_size = len(dataset) - train_size\n",
    "train_dataset, test_dataset = random_split(dataset, [train_size, test_size])\n",
    "\n",
    "train_loader = DataLoader(train_dataset, batch_size=batch_size, shuffle=True)\n",
    "test_loader = DataLoader(test_dataset, batch_size=batch_size, shuffle=False)"
   ],
   "id": "d83a1dd8accb697c",
   "outputs": [],
   "execution_count": 6
  },
  {
   "metadata": {
    "ExecuteTime": {
     "end_time": "2025-02-04T20:25:44.247320Z",
     "start_time": "2025-02-04T20:25:44.243636Z"
    }
   },
   "cell_type": "code",
   "source": [
    "class EmbeddingNet(nn.Module):\n",
    "    def __init__(self):\n",
    "        super(EmbeddingNet, self).__init__()\n",
    "        self.cnn = nn.Sequential(\n",
    "            nn.Conv2d(3, 32, kernel_size=3, stride=1, padding=1),\n",
    "            nn.ReLU(),\n",
    "            nn.MaxPool2d(kernel_size=2, stride=2),\n",
    "            nn.Conv2d(32, 64, kernel_size=3, stride=1, padding=1),\n",
    "            nn.BatchNorm2d(64),\n",
    "            nn.ReLU(),\n",
    "            nn.MaxPool2d(kernel_size=2, stride=2),\n",
    "            nn.Conv2d(64, 128, kernel_size=3, stride=1, padding=1),\n",
    "            nn.BatchNorm2d(128),\n",
    "            nn.ReLU(),\n",
    "            nn.MaxPool2d(kernel_size=2, stride=2),\n",
    "            nn.Flatten(),\n",
    "            nn.Linear(128 * 8 * 8, 256)\n",
    "        )\n",
    "\n",
    "    def forward(self, x):\n",
    "        return self.cnn(x)"
   ],
   "id": "ee81d3fbaeb1259a",
   "outputs": [],
   "execution_count": 7
  },
  {
   "metadata": {
    "ExecuteTime": {
     "end_time": "2025-02-04T20:25:44.779693Z",
     "start_time": "2025-02-04T20:25:44.777028Z"
    }
   },
   "cell_type": "code",
   "source": [
    "class TripletLoss(nn.Module):\n",
    "    def __init__(self):\n",
    "        super(TripletLoss, self).__init__()\n",
    "        self.loss_fn = nn.SoftMarginLoss()\n",
    "\n",
    "    def forward(self, anchor, positive, negative):\n",
    "        distance_positive = (anchor - positive).pow(2).sum(1)\n",
    "        distance_negative = (anchor - negative).pow(2).sum(1)\n",
    "        target = torch.ones_like(distance_positive)\n",
    "        loss = self.loss_fn(distance_negative - distance_positive, target)\n",
    "        return loss\n"
   ],
   "id": "97a81d9bea0b7fae",
   "outputs": [],
   "execution_count": 8
  },
  {
   "metadata": {
    "ExecuteTime": {
     "end_time": "2025-02-04T20:25:45.268651Z",
     "start_time": "2025-02-04T20:25:45.248277Z"
    }
   },
   "cell_type": "code",
   "source": [
    "model = EmbeddingNet().to(device)\n",
    "criterion = TripletLoss()\n",
    "optimizer = optim.Adam(model.parameters(), lr=learning_rate)\n",
    "scheduler = torch.optim.lr_scheduler.StepLR(optimizer, step_size=2, gamma=0.5)"
   ],
   "id": "afff1de82edac5c8",
   "outputs": [],
   "execution_count": 9
  },
  {
   "metadata": {
    "ExecuteTime": {
     "end_time": "2025-02-04T20:25:45.873472Z",
     "start_time": "2025-02-04T20:25:45.869831Z"
    }
   },
   "cell_type": "code",
   "source": [
    "def evaluate_model():\n",
    "    model.eval()\n",
    "    test_loss = 0.0\n",
    "    correct = 0\n",
    "    total = 0\n",
    "\n",
    "    with torch.no_grad():\n",
    "        for anchor, positive, negative, brand in test_loader:\n",
    "            anchor, positive, negative = anchor.to(device), positive.to(device), negative.to(device)\n",
    "\n",
    "            anchor_embed = model(anchor)\n",
    "            positive_embed = model(positive)\n",
    "            negative_embed = model(negative)\n",
    "\n",
    "            loss = criterion(anchor_embed, positive_embed, negative_embed)\n",
    "            test_loss += loss.item()\n",
    "\n",
    "            similarities = cosine_similarity(anchor_embed.cpu().numpy(), positive_embed.cpu().numpy())\n",
    "            predicted = np.argmax(similarities, axis=1)\n",
    "            correct += np.sum(predicted == np.arange(len(predicted)))\n",
    "            total += len(predicted)\n",
    "\n",
    "    accuracy = (correct / total) * 100\n",
    "    return test_loss / len(test_loader), accuracy"
   ],
   "id": "e1bd66dd16ba974b",
   "outputs": [],
   "execution_count": 10
  },
  {
   "metadata": {
    "ExecuteTime": {
     "end_time": "2025-02-04T20:25:46.325686Z",
     "start_time": "2025-02-04T20:25:46.322097Z"
    }
   },
   "cell_type": "code",
   "source": [
    "def train_model():\n",
    "    train_losses = []\n",
    "    test_losses = []\n",
    "    accuracy_list = []\n",
    "\n",
    "    for epoch in range(num_epochs):\n",
    "        model.train()\n",
    "        running_loss = 0.0\n",
    "        for anchor, positive, negative, _ in train_loader:\n",
    "            anchor, positive, negative = anchor.to(device), positive.to(device), negative.to(device)\n",
    "\n",
    "            anchor_embed = model(anchor)\n",
    "            positive_embed = model(positive)\n",
    "            negative_embed = model(negative)\n",
    "\n",
    "            loss = criterion(anchor_embed, positive_embed, negative_embed)\n",
    "\n",
    "            optimizer.zero_grad()\n",
    "            loss.backward()\n",
    "            optimizer.step()\n",
    "\n",
    "            running_loss += loss.item()\n",
    "\n",
    "        epoch_loss = running_loss / len(train_loader)\n",
    "        train_losses.append(epoch_loss)\n",
    "\n",
    "        test_loss, accuracy = evaluate_model()\n",
    "        test_losses.append(test_loss)\n",
    "        accuracy_list.append(accuracy)\n",
    "\n",
    "        print(\n",
    "            f\"Epoch [{epoch + 1}/{num_epochs}], Train Loss: {epoch_loss:.4f}, Test Loss: {test_loss:.4f}, Accuracy: {accuracy:.2f}%\")\n",
    "\n",
    "    return train_losses, test_losses, accuracy_list"
   ],
   "id": "abe0066027f1b4df",
   "outputs": [],
   "execution_count": 11
  },
  {
   "metadata": {
    "jupyter": {
     "is_executing": true
    },
    "ExecuteTime": {
     "start_time": "2025-02-04T20:25:47.037470Z"
    }
   },
   "cell_type": "code",
   "source": "train_losses, test_losses, accuracy_list = train_model()",
   "id": "fc299208e663a5ca",
   "outputs": [],
   "execution_count": null
  },
  {
   "metadata": {
    "ExecuteTime": {
     "end_time": "2025-02-04T04:16:04.256934Z",
     "start_time": "2025-02-04T04:16:04.110224Z"
    }
   },
   "cell_type": "code",
   "source": [
    "plt.plot(train_losses, label=\"Train Loss\")\n",
    "plt.plot(test_losses, label=\"Test Loss\")\n",
    "# plt.plot(accuracy_list, label=\"Accuracy\")\n",
    "plt.xlabel(\"Epoch\")\n",
    "plt.ylabel(\"Metrics\")\n",
    "plt.title(\"Train/Test Loss and Accuracy\")\n",
    "plt.legend()\n",
    "plt.show()"
   ],
   "id": "8a17f3c2fdda9f6e",
   "outputs": [
    {
     "data": {
      "text/plain": [
       "<Figure size 640x480 with 1 Axes>"
      ],
      "image/png": "[encoded data removed]"
     },
     "metadata": {},
     "output_type": "display_data"
    }
   ],
   "execution_count": 110
  },
  {
   "metadata": {
    "ExecuteTime": {
     "end_time": "2025-02-04T04:16:17.490721Z",
     "start_time": "2025-02-04T04:16:17.446826Z"
    }
   },
   "cell_type": "code",
   "source": "torch.save(model.state_dict(), \"logo_model.pth\")",
   "id": "a25fe7c3e85cdf02",
   "outputs": [],
   "execution_count": 111
  },
  {
   "metadata": {
    "ExecuteTime": {
     "end_time": "2025-02-04T04:18:44.807274Z",
     "start_time": "2025-02-04T04:18:44.799097Z"
    }
   },
   "cell_type": "code",
   "source": [
    "def load_reference_embeddings(model, ref_dir):\n",
    "    model.eval()\n",
    "    embeddings = {}\n",
    "\n",
    "    for brand in os.listdir(ref_dir):\n",
    "        brand_dir = os.path.join(ref_dir, brand)\n",
    "        for img_name in os.listdir(brand_dir):\n",
    "            img_path = os.path.join(brand_dir, img_name)\n",
    "            image = Image.open(img_path).convert(\"RGB\")\n",
    "            image = train_transform(image).unsqueeze(0).to(device)\n",
    "            with torch.no_grad():\n",
    "                embeddings[img_name] = model(image).cpu().numpy()\n",
    "\n",
    "    return embeddings"
   ],
   "id": "976d015ba152a865",
   "outputs": [],
   "execution_count": 115
  },
  {
   "metadata": {
    "ExecuteTime": {
     "end_time": "2025-02-04T04:18:45.579104Z",
     "start_time": "2025-02-04T04:18:45.574852Z"
    }
   },
   "cell_type": "code",
   "source": [
    "def predict_brand(model, test_image, ref_embeddings):\n",
    "    model.eval()\n",
    "    image = Image.open(test_image).convert(\"RGB\")\n",
    "    image = train_transform(image).unsqueeze(0).to(device)\n",
    "\n",
    "    with torch.no_grad():\n",
    "        query_embedding = model(image).cpu().numpy()\n",
    "\n",
    "    similarities = {k: cosine_similarity(query_embedding, v)[0][0] for k, v in ref_embeddings.items()}\n",
    "    best_match = max(similarities, key=similarities.get)\n",
    "    return best_match, similarities[best_match]\n"
   ],
   "id": "2016084141ba5574",
   "outputs": [],
   "execution_count": 116
  },
  {
   "metadata": {
    "ExecuteTime": {
     "end_time": "2025-02-04T04:19:37.397682Z",
     "start_time": "2025-02-04T04:19:37.361857Z"
    }
   },
   "cell_type": "code",
   "source": [
    "embedding_model = EmbeddingNet().to(device)\n",
    "embedding_model.load_state_dict(torch.load(\"logo_model.pth\", weights_only=True))"
   ],
   "id": "b1d6e08b9b097a3d",
   "outputs": [
    {
     "data": {
      "text/plain": [
       "<All keys matched successfully>"
      ]
     },
     "execution_count": 119,
     "metadata": {},
     "output_type": "execute_result"
    }
   ],
   "execution_count": 119
  },
  {
   "metadata": {
    "ExecuteTime": {
     "end_time": "2025-02-04T04:21:12.122595Z",
     "start_time": "2025-02-04T04:19:39.469284Z"
    }
   },
   "cell_type": "code",
   "source": [
    "reference_embeddings = load_reference_embeddings(embedding_model, reference_logos_dir)\n",
    "test_image = \"openLogo/JPEGImages/uniqlo8.jpg\"\n",
    "predicted_brand, score = predict_brand(embedding_model, test_image, reference_embeddings)\n",
    "print(f\"Predicted Brand: {predicted_brand}, Similarity Score: {score:.4f}\")"
   ],
   "id": "9da3d8cff2f092e4",
   "outputs": [
    {
     "name": "stdout",
     "output_type": "stream",
     "text": [
      "Predicted Brand: nescafeimg000081.jpg, Similarity Score: 0.9222\n"
     ]
    }
   ],
   "execution_count": 120
  },
  {
   "metadata": {},
   "cell_type": "code",
   "outputs": [],
   "execution_count": null,
   "source": "",
   "id": "9100168ced1dcb35"
  }
 ],
 "metadata": {
  "kernelspec": {
   "display_name": "Python 3",
   "language": "python",
   "name": "python3"
  },
  "language_info": {
   "codemirror_mode": {
    "name": "ipython",
    "version": 2
   },
   "file_extension": ".py",
   "mimetype": "text/x-python",
   "name": "python",
   "nbconvert_exporter": "python",
   "pygments_lexer": "ipython2",
   "version": "2.7.6"
  }
 },
 "nbformat": 4,
 "nbformat_minor": 5
}
